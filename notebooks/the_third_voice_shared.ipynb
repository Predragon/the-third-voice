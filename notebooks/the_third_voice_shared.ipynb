{
 "cells": [
  {
   "cell_type": "code",
   "metadata": {},
   "source": [
    "# ================================================================\n",
    "# Cell 1 - Architecture Diagram & Setup Checklist\n",
    "# ================================================================\n",
    "from IPython.display import Image, Markdown, display\n",
    "import os\n",
    "\n",
    "display(Markdown(\"## 🗂 The Third Voice – Architecture Overview\"))\n",
    "\n",
    "# Show architecture diagram only if it exists (after repo clone)\n",
    "if os.path.exists(\"docs/third_voice_arch.png\"):\n",
    "    display(Image(filename=\"docs/third_voice_arch.png\"))\n",
    "else:\n",
    "    display(Markdown(\"> ⚠️ Architecture diagram not found. It will be available after cloning the repo.\"))\n",
    "\n",
    "display(Markdown(\"\"\"\n",
    "**✅ Key Setup Checklist**\n",
    "- **OpenRouter API Key** – Required for all modes (free from [https://openrouter.ai](https://openrouter.ai)).\n",
    "- **Supabase URL & Key** – Optional, only if you want to store persistent chat history.\n",
    "- **Quick Test Mode** – If you skip Supabase setup, chats will work but won't be saved.\n",
    "\n",
    "> **Tip:** You can always add Supabase later without changing your AI settings.\n",
    "\"\"\"))"
   ],
   "execution_count": null,
   "outputs": []
  },
  {
   "cell_type": "code",
   "metadata": {},
   "source": [
    "# ================================================================\n",
    "# Cell 2 - Enter API Keys & Save to .streamlit/secrets.toml\n",
    "# ================================================================\n",
    "import getpass\n",
    "\n",
    "openrouter_key = getpass.getpass(\"Enter your OpenRouter API key: \")\n",
    "supabase_url = input(\"Enter your Supabase URL (leave blank for Quick Test Mode): \").strip()\n",
    "supabase_key = \"\"\n",
    "if supabase_url:\n",
    "    supabase_key = getpass.getpass(\"Enter your Supabase anon key: \")\n",
    "\n",
    "os.makedirs(\".streamlit\", exist_ok=True)\n",
    "\n",
    "with open(\".streamlit/secrets.toml\", \"w\") as f:\n",
    "    f.write(f\"\"\"[openrouter]\n",
    "api_key = \"{openrouter_key}\"\n",
    "\n",
    "[supabase]\n",
    "url = \"{supabase_url}\"\n",
    "key = \"{supabase_key}\"\n",
    "\n",
    "[MODELS]\n",
    "model1 = \"google/gemma-2-9b-it:free\"\n",
    "model2 = \"deepseek/deepseek-chat-v3-0324:free\"\n",
    "model3 = \"deepseek/deepseek-r1-distill-llama-70b:free\"\n",
    "model4 = \"meta-llama/llama-3.2-3b-instruct:free\"\n",
    "model5 = \"qwen/qwen-2.5-7b-instruct:free\"\n",
    "model6 = \"microsoft/phi-3-mini-4k-instruct:free\"\n",
    "\"\"\")\n",
    "\n",
    "quick_test_mode = not bool(supabase_url)\n",
    "if quick_test_mode:\n",
    "    print(\"⚡ Quick Test Mode enabled (no Supabase, chat history won't be saved)\")\n",
    "else:\n",
    "    print(\"✅ Full Mode enabled (Supabase connected)\")"
   ],
   "execution_count": null,
   "outputs": []
  },
  {
   "cell_type": "code",
   "metadata": {},
   "source": [
    "# ================================================================\n",
    "# Cell 3 - Clone Repo (if needed)\n",
    "# ================================================================\n",
    "if not os.path.exists(\"the-third-voice\"):\n",
    "    !git clone https://github.com/Predragon/the-third-voice.git\n",
    "else:\n",
    "    print(\"📂 Repo already exists — skipping clone.\")"
   ],
   "execution_count": null,
   "outputs": []
  },
  {
   "cell_type": "code",
   "metadata": {},
   "source": [
    "# ================================================================\n",
    "# Cell 4 - Install Dependencies\n",
    "# ================================================================\n",
    "!pip install \\\n",
    "    streamlit==1.48.0 \\\n",
    "    supabase==2.4.0 \\\n",
    "    requests==2.32.3 \\\n",
    "    python-dateutil==2.9.0.post0 \\\n",
    "    validators==0.22.0 \\\n",
    "    passlib==1.7.4 \\\n",
    "    bcrypt==4.2.0 \\\n",
    "    python-dotenv==1.0.1 \\\n",
    "    loguru==0.7.2 \\\n",
    "    typing-extensions==4.12.2 \\\n",
    "    pandas==2.2.2 \\\n",
    "    numpy==1.26.4 \\\n",
    "    toml==0.10.2"
   ],
   "execution_count": null,
   "outputs": []
  },
  {
   "cell_type": "code",
   "metadata": {},
   "source": [
    "# ================================================================\n",
    "# Cell 5 - Import AI Engine\n",
    "# ================================================================\n",
    "import sys\n",
    "sys.path.append(\"the-third-voice\")\n",
    "\n",
    "import toml\n",
    "\n",
    "try:\n",
    "    from src.core.ai_engine import process_message\n",
    "    print(\"✅ AI engine imported successfully\")\n",
    "except Exception as e:\n",
    "    print(\"❌ Error importing AI engine:\", e)"
   ],
   "execution_count": null,
   "outputs": []
  },
  {
   "cell_type": "code",
   "metadata": {},
   "source": [
    "# ================================================================\n",
    "# Cell 6 - Run Test Prompt\n",
    "# ================================================================\n",
    "# Load model from secrets.toml\n",
    "secrets = toml.load(\".streamlit/secrets.toml\")\n",
    "model = secrets[\"MODELS\"][\"model1\"]\n",
    "\n",
    "test_input = \"Hello, can you help me rewrite this kindly?\"\n",
    "\n",
    "try:\n",
    "    ai_response = process_message(\n",
    "        message=test_input,\n",
    "        model=model,\n",
    "        user_id=\"colab_test_user\",\n",
    "        supabase_client=None if quick_test_mode else \"SUPABASE_CLIENT_PLACEHOLDER\"\n",
    "    )\n",
    "    print(\"🤖 AI Response:\", ai_response)\n",
    "    print(\"\\n\\033[92m✅ The Third Voice AI setup complete!\\033[0m\")\n",
    "except Exception as e:\n",
    "    print(\"❌ Error running test prompt:\", e)"
   ],
   "execution_count": null,
   "outputs": []
  }
 ],
 "metadata": {
  "kernelspec": {
   "display_name": "Python 3",
   "language": "python",
   "name": "python3"
  },
  "language_info": {
   "name": "python",
   "version": ""
  }
 },
 "nbformat": 4,
 "nbformat_minor": 0
}
