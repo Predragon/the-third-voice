{
 "cells": [
  {
   "cell_type": "markdown",
   "metadata": {},
   "source": [
    "# The Third Voice – Public Colab Notebook\n",
    "**For anyone to test with their own API keys.**\n",
    "\n",
    "Enter your keys when prompted. Nothing is stored."
   ]
  },
  {
   "cell_type": "code",
   "execution_count": null,
   "metadata": {},
   "outputs": [],
   "source": [
    "import os\n",
    "\n",
    "os.environ[\"OPENROUTER_API_KEY\"] = input(\"Enter your OpenRouter API key: \").strip()\n",
    "os.environ[\"SUPABASE_URL\"] = input(\"Enter your Supabase URL: \").strip()\n",
    "os.environ[\"SUPABASE_KEY\"] = input(\"Enter your Supabase key: \").strip()\n",
    "\n",
    "# Optional: Let user choose a model\n",
    "MODELS = {\n",
    "    \"model1\": \"google/gemma-2-9b-it:free\",\n",
    "    \"model2\": \"deepseek/deepseek-chat-v3-0324:free\",\n",
    "    \"model3\": \"deepseek/deepseek-r1-distill-llama-70b:free\",\n",
    "    \"model4\": \"meta-llama/llama-3.2-3b-instruct:free\",\n",
    "    \"model5\": \"qwen/qwen-2.5-7b-instruct:free\",\n",
    "    \"model6\": \"microsoft/phi-3-mini-4k-instruct:free\"\n",
    "}\n",
    "\n",
    "print(\"✅ Keys loaded for this session\")"
   ]
  },
  {
   "cell_type": "code",
   "execution_count": null,
   "metadata": {},
   "outputs": [],
   "source": [
    "!git clone https://github.com/Predragon/the-third-voice.git\n",
    "%cd the-third-voice"
   ]
  },
  {
   "cell_type": "code",
   "execution_count": null,
   "metadata": {},
   "outputs": [],
   "source": [
    "!pip install -r requirements.txt"
   ]
  },
  {
   "cell_type": "code",
   "execution_count": null,
   "metadata": {},
   "outputs": [],
   "source": [
    "import sys\n",
    "sys.path.append(\"/content/the-third-voice/src\")"
   ]
  },
  {
   "cell_type": "code",
   "execution_count": null,
   "metadata": {},
   "outputs": [],
   "source": [
    "# Example AIEngine usage\n",
    "from core.ai_engine import AIEngine\n",
    "\n",
    "ai = AIEngine(api_key=os.environ[\"OPENROUTER_API_KEY\"], model=MODELS[\"model1\"])\n",
    "response = ai.run(\"Hello from Public Colab!\")\n",
    "print(response)"
   ]
  }
 ],
 "metadata": {
  "kernelspec": {
   "display_name": "Python 3",
   "language": "python",
   "name": "python3"
  },
  "language_info": {
   "name": "python"
  }
 },
 "nbformat": 4,
 "nbformat_minor": 2
}
