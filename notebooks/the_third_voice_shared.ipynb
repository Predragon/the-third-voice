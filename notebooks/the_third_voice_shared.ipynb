# ================================================================
# Cell 1 - Architecture Diagram & Setup Checklist
# ================================================================
from IPython.display import Image, Markdown

# Show architecture diagram (you need to place docs/third_voice_arch.png in repo)
display(Markdown("## 🗂 The Third Voice – Architecture Overview"))

display(Image(filename="docs/third_voice_arch.png"))

display(Markdown("""
**✅ Key Setup Checklist**
- **OpenRouter API Key** – Required for all modes (free from https://openrouter.ai).
- **Supabase URL & Key** – Optional, only if you want to store persistent chat history.
- **Quick Test Mode** – If you skip Supabase setup, chats will work but won't be saved.

> **Tip:** You can always add Supabase later without changing your AI settings.
"""))


# ================================================================
# Cell 2 - Enter API Keys & Save to .streamlit/secrets.toml
# ================================================================
import getpass, os

openrouter_key = getpass.getpass("Enter your OpenRouter API key: ")
supabase_url = input("Enter your Supabase URL (leave blank for Quick Test Mode): ").strip()
supabase_key = ""
if supabase_url:
    supabase_key = getpass.getpass("Enter your Supabase anon key: ")

os.makedirs(".streamlit", exist_ok=True)

with open(".streamlit/secrets.toml", "w") as f:
    f.write(f"""[openrouter]
api_key = "{openrouter_key}"

[supabase]
url = "{supabase_url}"
key = "{supabase_key}"

[MODELS]
model1 = "google/gemma-2-9b-it:free"
model2 = "deepseek/deepseek-chat-v3-0324:free"
model3 = "deepseek/deepseek-r1-distill-llama-70b:free"
model4 = "meta-llama/llama-3.2-3b-instruct:free"
model5 = "qwen/qwen-2.5-7b-instruct:free"
model6 = "microsoft/phi-3-mini-4k-instruct:free"
""")

quick_test_mode = not bool(supabase_url)
if quick_test_mode:
    print("⚡ Quick Test Mode enabled (no Supabase, chat history won't be saved)")
else:
    print("✅ Full Mode enabled (Supabase connected)")

# ================================================================
# Cell 3 - Clone Repo (if needed)
# ================================================================
if not os.path.exists("the-third-voice"):
    !git clone https://github.com/Predragon/the-third-voice.git
else:
    print("📂 Repo already exists — skipping clone.")

# ================================================================
# Cell 4 - Install Dependencies
# ================================================================
!pip install \
    streamlit==1.48.0 \
    supabase==2.4.0 \
    requests==2.32.3 \
    python-dateutil==2.9.0.post0 \
    validators==0.22.0 \
    passlib==1.7.4 \
    bcrypt==4.2.0 \
    python-dotenv==1.0.1 \
    loguru==0.7.2 \
    typing-extensions==4.12.2 \
    pandas==2.2.2 \
    numpy==1.26.4

# ================================================================
# Cell 5 - Import AI Engine
# ================================================================
import sys
sys.path.append("the-third-voice")

try:
    from src.core.ai_engine import process_message
    print("✅ AI engine imported successfully")
except Exception as e:
    print("❌ Error importing AI engine:", e)

# ================================================================
# Cell 6 - Run Test Prompt
# ================================================================
test_input = "Hello, can you help me rewrite this kindly?"
try:
    ai_response = process_message(test_input)
    print("🤖 AI Response:", ai_response)
    print("\n\033[92m✅ The Third Voice AI setup complete!\033[0m")
except Exception as e:
    print("❌ Error running test prompt:", e)
