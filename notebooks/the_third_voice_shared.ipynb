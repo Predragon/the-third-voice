# ================================================================
# 🗂 The Third Voice – Setup for Google Colab
# ================================================================

print("🚀 Setting up The Third Voice in Google Colab...")

# Clone repository if it doesn't exist
import os
if not os.path.exists("the-third-voice"):
    print("📥 Cloning repository...")
    !git clone https://github.com/Predragon/the-third-voice.git
else:
    print("✅ Repository already exists")

print("""
## 🗂 The Third Voice – Architecture Overview

┌─────────────────────────────────────────────────────────────┐
│                    The Third Voice                          │
├─────────────────────────────────────────────────────────────┤
│  User Input → AI Engine → Multiple Models → Consensus       │
│                     ↓                                       │
│              Supabase (Optional)                           │
│                     ↓                                       │
│               Response Output                               │
└─────────────────────────────────────────────────────────────┘

✅ Key Setup Checklist:
- OpenRouter API Key – Required (free from https://openrouter.ai)
- Supabase URL & Key – Optional for chat history
- Quick Test Mode – Works without Supabase

💡 Tip: You can add Supabase later without changing AI settings.
""")

# ================================================================
# 📦 Install Dependencies (Colab-optimized)
# ================================================================
print("📦 Installing dependencies...")

!pip install -q streamlit==1.48.0
!pip install -q supabase==2.4.0
!pip install -q requests==2.32.3
!pip install -q python-dateutil==2.9.0.post0
!pip install -q validators==0.22.0
!pip install -q passlib==1.7.4
!pip install -q bcrypt==4.2.0
!pip install -q python-dotenv==1.0.1
!pip install -q loguru==0.7.2
!pip install -q typing-extensions==4.12.2
!pip install -q pandas==2.2.2
!pip install -q numpy==1.26.4
!pip install -q toml==0.10.2

print("✅ Dependencies installed!")

# ================================================================
# 🔑 API Keys Setup (Colab-friendly)
# ================================================================
import getpass
import toml

print("\n🔑 Setting up API keys...")

openrouter_key = getpass.getpass("Enter your OpenRouter API key: ")
supabase_url = input("Enter your Supabase URL (or press Enter for Quick Test Mode): ").strip()
supabase_key = ""

if supabase_url:
    supabase_key = getpass.getpass("Enter your Supabase anon key: ")

# Create config directory
os.makedirs(".streamlit", exist_ok=True)

# Prepare secrets
secrets_dict = {
    "openrouter": {"api_key": openrouter_key.strip()},
    "supabase": {"url": supabase_url.strip(), "key": supabase_key.strip()},
    "MODELS": {
        "model1": "google/gemma-2-9b-it:free",
        "model2": "deepseek/deepseek-chat-v3-0324:free", 
        "model3": "deepseek/deepseek-r1-distill-llama-70b:free",
        "model4": "meta-llama/llama-3.2-3b-instruct:free",
        "model5": "qwen/qwen-2.5-7b-instruct:free",
        "model6": "microsoft/phi-3-mini-4k-instruct:free"
    }
}

# Save configuration
try:
    with open(".streamlit/secrets.toml", "w") as f:
        toml.dump(secrets_dict, f)
    print("✅ Configuration saved!")
except Exception as e:
    print(f"❌ Error saving config: {e}")

quick_test_mode = not bool(supabase_url)
print(f"🔧 Mode: {'⚡ Quick Test (no history saved)' if quick_test_mode else '🔗 Full (with Supabase)'}")

# ================================================================
# 📚 Import and Test AI Engine  
# ================================================================
import sys
sys.path.append("the-third-voice")

print("\n📚 Testing AI engine...")
try:
    from src.core.ai_engine import process_message
    print("✅ AI engine imported successfully!")
    
    # Run test
    print("\n🧪 Running test prompt...")
    test_response = process_message(
        message="Hello, can you help me rewrite this kindly?",
        model=secrets_dict["MODELS"]["model1"],
        user_id="colab_test_user",
        supabase_client=None if quick_test_mode else "placeholder"
    )
    
    print(f"🤖 AI Response: {test_response}")
    print("\n🎉 Setup completed successfully!")
    
except Exception as e:
    print(f"⚠️ AI engine test failed: {e}")
    print("💡 Setup is complete, but you may need to check the repository structure.")

# ================================================================
# 🚀 Start Streamlit (Colab instructions)
# ================================================================
print("\n" + "="*60)
print("🌟 NEXT STEPS:")
print("1. Run this in a new cell to start the app:")
print("   !streamlit run the-third-voice/app.py --server.port 8501 &")
print("2. Then run this to create a public URL:")
print("   !npx localtunnel --port 8501")
print("3. Click the generated URL to access your app!")
print("="*60)
